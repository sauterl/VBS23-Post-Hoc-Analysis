{
 "cells": [
  {
   "attachments": {},
   "cell_type": "markdown",
   "metadata": {
    "pycharm": {
     "name": "#%% md\n"
    }
   },
   "source": [
    "# Preprocesses log data and create a pickle file for further analysis"
   ]
  },
  {
   "cell_type": "code",
   "execution_count": null,
   "metadata": {
    "pycharm": {
     "name": "#%%\n"
    }
   },
   "outputs": [],
   "source": [
    "import sys\n",
    "# if in notebook folder, change directory to parent one\n",
    "import os\n",
    "if os.getcwd().split('/')[-1] == 'notebooks':\n",
    "    os.chdir('..')\n",
    "import sys\n",
    "\n",
    "# imports\n",
    "import pandas as pd\n",
    "import matplotlib.pyplot as plt\n",
    "import seaborn as sns\n",
    "import numpy as np\n",
    "import math\n",
    "from notebooks.utils import compute_user_penalty, get_team_values_df\n",
    "from common.load import load_competition_data, process_team_logs\n",
    "\n",
    "pd.set_option('display.max_colwidth', None)\n",
    "unknownRankLimit = 1000\n",
    "unknownRankValue = 2000"
   ]
  },
  {
   "attachments": {},
   "cell_type": "markdown",
   "metadata": {},
   "source": [
    "# Import common data"
   ]
  },
  {
   "cell_type": "code",
   "execution_count": null,
   "metadata": {},
   "outputs": [],
   "source": [
    "config = 'config_vbs2023.yaml'\n",
    "\n",
    "# load competition data from dres files and auxiliary data (FPSs, sequences)\n",
    "comp_data = load_competition_data(config)\n",
    "\n",
    "# compute team logs and put them in the form of dataframes (or load them if already existing)\n",
    "logs = process_team_logs(config, comp_data, force=False, remove_none=False)\n",
    "\n",
    "teams = comp_data['config']['teams']\n",
    "teams.remove('VideoCLIP')\n",
    "\n",
    "# FIXME: badly patch the name of HTW into vibro\n",
    "teams_adj = teams.copy()\n",
    "teams_adj = [t if t != 'HTW' else 'vibro' for t in teams_adj]\n",
    "\n",
    "# valid teams\n",
    "team_order = ['vibro', 'VISIONE', 'vitrivr-VR', 'CVHunter',  'Verge']\n",
    "#team_order = ['vibro', 'VISIONE', 'VIREO' 'vitrivr-VR', 'CVHunter', 'vitrivr', 'Verge'] // full list"
   ]
  },
  {
   "attachments": {},
   "cell_type": "markdown",
   "metadata": {},
   "source": [
    "# Merge team data into one dataframe"
   ]
  },
  {
   "cell_type": "code",
   "execution_count": null,
   "metadata": {},
   "outputs": [],
   "source": [
    "teams"
   ]
  },
  {
   "cell_type": "code",
   "execution_count": null,
   "metadata": {
    "pycharm": {
     "name": "#%%\n"
    }
   },
   "outputs": [],
   "source": [
    "dfs = []\n",
    "for team in teams:\n",
    "    team_df = logs[team].get_events_dataframe().reset_index()\n",
    "    dfs.append(team_df)\n",
    "\n",
    "dataset = pd.concat(dfs, axis=0).reset_index()\n",
    "dataset_original = dataset.copy()\n",
    "dataset.head()"
   ]
  },
  {
   "attachments": {},
   "cell_type": "markdown",
   "metadata": {},
   "source": [
    "# Data checks\n",
    "Displaying special log information that concerns only a few teams."
   ]
  },
  {
   "attachments": {},
   "cell_type": "markdown",
   "metadata": {
    "pycharm": {
     "name": "#%%\n"
    }
   },
   "source": [
    "### all category and type combination per team"
   ]
  },
  {
   "cell_type": "code",
   "execution_count": null,
   "metadata": {},
   "outputs": [],
   "source": [
    "dataset[[\"team\",\"category\",\"type\"]].groupby([\"team\",\"category\",\"type\"]).size().reset_index(name='count').to_excel('output_file.xlsx', index=False)"
   ]
  },
  {
   "cell_type": "code",
   "execution_count": null,
   "metadata": {},
   "outputs": [],
   "source": [
    "print('\\n'.join(map(str, dataset[[\"team\",\"category\",\"type\"]].groupby([\"team\",\"category\",\"type\"]).groups.keys())))"
   ]
  },
  {
   "attachments": {},
   "cell_type": "markdown",
   "metadata": {},
   "source": [
    "### only one sketch query"
   ]
  },
  {
   "cell_type": "code",
   "execution_count": null,
   "metadata": {},
   "outputs": [],
   "source": [
    "dataset.loc[dataset.category == \"SKETCH\"]"
   ]
  },
  {
   "attachments": {},
   "cell_type": "markdown",
   "metadata": {},
   "source": [
    "### only one filter query"
   ]
  },
  {
   "cell_type": "code",
   "execution_count": null,
   "metadata": {},
   "outputs": [],
   "source": [
    "dataset.loc[dataset.category == \"FILTER\"]"
   ]
  },
  {
   "attachments": {},
   "cell_type": "markdown",
   "metadata": {},
   "source": [
    "### ### only one visualtextcoembedding query"
   ]
  },
  {
   "cell_type": "code",
   "execution_count": null,
   "metadata": {},
   "outputs": [],
   "source": [
    "dataset.loc[dataset.category == \"visualtextcoembedding\"]"
   ]
  },
  {
   "attachments": {},
   "cell_type": "markdown",
   "metadata": {},
   "source": [
    "### vitrivr's value column is empty"
   ]
  },
  {
   "cell_type": "code",
   "execution_count": null,
   "metadata": {},
   "outputs": [],
   "source": [
    "dataset.loc[dataset.team == \"vitrivr\"]"
   ]
  },
  {
   "attachments": {},
   "cell_type": "markdown",
   "metadata": {},
   "source": [
    "### VIREO's value column is empty"
   ]
  },
  {
   "cell_type": "code",
   "execution_count": null,
   "metadata": {},
   "outputs": [],
   "source": [
    "dataset.loc[dataset.team == \"VIREO\"]"
   ]
  },
  {
   "attachments": {},
   "cell_type": "markdown",
   "metadata": {},
   "source": [
    "### vitrivr-VR types and category columns are swapped"
   ]
  },
  {
   "cell_type": "code",
   "execution_count": null,
   "metadata": {},
   "outputs": [],
   "source": [
    "dataset.loc[dataset.team == \"vitrivr-VR\"].head()"
   ]
  },
  {
   "attachments": {},
   "cell_type": "markdown",
   "metadata": {},
   "source": [
    "### verge concept type query has no values"
   ]
  },
  {
   "cell_type": "code",
   "execution_count": null,
   "metadata": {
    "pycharm": {
     "name": "#%%\n"
    }
   },
   "outputs": [],
   "source": [
    "dataset.loc[((dataset.team == \"Verge\") & (dataset.type==\"concept\"))].head()"
   ]
  },
  {
   "attachments": {},
   "cell_type": "markdown",
   "metadata": {},
   "source": [
    "### HTW temporal category has only text queries"
   ]
  },
  {
   "cell_type": "code",
   "execution_count": null,
   "metadata": {},
   "outputs": [],
   "source": [
    "dataset.loc[dataset.category==\"TEMPORAL\"].head()"
   ]
  },
  {
   "attachments": {},
   "cell_type": "markdown",
   "metadata": {},
   "source": [
    "### CV-Hunter has a CLIP: or Temporal-CLIP: prefix in the value column for text queries"
   ]
  },
  {
   "cell_type": "code",
   "execution_count": null,
   "metadata": {},
   "outputs": [],
   "source": [
    "dataset.loc[dataset.team==\"CVHunter\"].head()"
   ]
  },
  {
   "attachments": {},
   "cell_type": "markdown",
   "metadata": {},
   "source": [
    "### CVHunter has some browsing category entries but they do not change the ranking order"
   ]
  },
  {
   "cell_type": "code",
   "execution_count": null,
   "metadata": {},
   "outputs": [],
   "source": [
    "print(dataset.loc[((dataset.team == \"CVHunter\") & (dataset.category==\"BROWSING\"))].type.unique())\n",
    "dataset.loc[((dataset.team == \"CVHunter\") & (dataset.category==\"BROWSING\"))]"
   ]
  },
  {
   "attachments": {},
   "cell_type": "markdown",
   "metadata": {},
   "source": [
    "### CVHunter has submit entries which are not important for the ranking or text analysis"
   ]
  },
  {
   "cell_type": "code",
   "execution_count": null,
   "metadata": {},
   "outputs": [],
   "source": [
    "dataset.loc[((dataset.team == \"CVHunter\") & (dataset.category==\"SUBMIT\"))].head()"
   ]
  },
  {
   "attachments": {},
   "cell_type": "markdown",
   "metadata": {},
   "source": [
    "### CVHunter has triggert every text query two times"
   ]
  },
  {
   "cell_type": "code",
   "execution_count": null,
   "metadata": {},
   "outputs": [],
   "source": [
    "dataset.loc[((dataset.team == \"CVHunter\") & (dataset.category==\"TEXT\"))].head()"
   ]
  },
  {
   "attachments": {},
   "cell_type": "markdown",
   "metadata": {},
   "source": [
    "### VISIONE has two LocalizedObjectAndColor queries"
   ]
  },
  {
   "cell_type": "code",
   "execution_count": null,
   "metadata": {},
   "outputs": [],
   "source": [
    "object_and_color_queries=dataset.loc[((dataset.team == \"VISIONE\") & (dataset.type.str.contains('LocalizedObjectAndColor')))]\n",
    "object_and_color_queries.head()"
   ]
  },
  {
   "cell_type": "code",
   "execution_count": null,
   "metadata": {},
   "outputs": [],
   "source": [
    "#selecct timestamp of object and color queries\n",
    "dataset.loc[dataset.timestamp.isin(object_and_color_queries[\"timestamp\"])].head() \n",
    "#the only object and color query of VISIONE is a combined  query with a textual query"
   ]
  },
  {
   "attachments": {},
   "cell_type": "markdown",
   "metadata": {},
   "source": [
    "#### Counting temporal queries\n"
   ]
  },
  {
   "cell_type": "code",
   "execution_count": null,
   "metadata": {},
   "outputs": [],
   "source": [
    "#VISIONE TEAMS\n",
    "#group rows in visione_logs with the same \"timestamp\" value and count the number of rows agregated in each group\n",
    "visione_logs=dataset.loc[(dataset.team == \"VISIONE\") ]\n",
    "#number of visione queries:\n",
    "same_timestamp_counts = visione_logs.groupby(\"timestamp\").size().reset_index(name=\"count\")\n",
    "visione_query_counts=len(same_timestamp_counts)\n",
    "combined_query_timestamps= same_timestamp_counts.loc[(same_timestamp_counts[\"count\"]>1)] #combined queries cam be either temporal or not temporal\n",
    "#select rows in visione_logs with timestamp values that are in combined_query_timestamps\n",
    "temporal_query_logs=visione_logs.loc[(visione_logs.timestamp.isin(combined_query_timestamps[\"timestamp\"]))&(dataset.value.str.contains('Temporal'))]\n",
    "temporal_query_counts= len(temporal_query_logs.groupby(\"timestamp\").size().reset_index(name=\"count\"))\n",
    "textual_query_count=len(visione_logs.loc[(visione_logs.type.str.contains('jointEmbedding'))].groupby(\"timestamp\").size().reset_index(name=\"count\"))\n",
    "\n",
    "print(f\"VISIONE has {visione_query_counts} queries ({textual_query_count} textual queries):  {temporal_query_counts} TEMPORAL Queries  and {visione_query_counts-temporal_query_counts} non-temporal queries\")\n",
    "\n",
    "#how many textual query (both temporal and not)?\n",
    "\n",
    "#VIBRO TEAMS\n",
    "vibro_logs=dataset.loc[(dataset.team == \"HTW\") ]\n",
    "#number of vibro queries with type containing textual query (excluding temporal)\n",
    "vibro_textual_query_count=len(vibro_logs.loc[(vibro_logs.type.str.contains('jointEmbedding'))].groupby(\"timestamp\").size().reset_index(name=\"count\"))\n",
    "#number of vibro queries with type containing temporal\n",
    "temporal_query_count=len(vibro_logs.loc[(vibro_logs.category.str.contains('TEMPORAL'))].groupby(\"timestamp\").size().reset_index(name=\"count\"))\n",
    "print(f\"VIBRO has {temporal_query_count+vibro_textual_query_count} textual queries: {temporal_query_count} temporal text queries and  {vibro_textual_query_count} other textual queries\")\n",
    "\n",
    "\n"
   ]
  },
  {
   "attachments": {},
   "cell_type": "markdown",
   "metadata": {
    "pycharm": {
     "name": "#%% md\n"
    }
   },
   "source": [
    "### NOTES\n",
    "- vitrivr-vr has a category called visualtextcoembedding, but only text information are preseted\n",
    "- vitrivr-vr category and type columns are swapped\n",
    "- vitrivr-vr additional temporal information '>'\n",
    "- vitrivr-vr has only submittions for 16 of 19 tasks\n",
    "- vitrivr value column is always empty\n",
    "- vitrivr has a single sketch row\n",
    "- vireo does not have category or type values \n",
    "- verge type=concept has empty or NaN value column\n",
    "- verge has a single filter row\n",
    "- verge can use temporal search only with concepts, there is no way to identify in teh log if temporal search  was used \n",
    "- HTW category=temporal has only text->text queries\n",
    "- HTW should be renamed to vibro\n",
    "- CVHunter has some prefixes in the query which were not typed by the user (CLIP: / Temporal CLIP:) gonna remove them in pre-processing\n",
    "- CVHunter SUBMIT category does always have a video rank of INF\n",
    "- CVHunter has several BROWSING types in the log, all have a video rank of INF\n",
    "- CVHunter every query is send twice (with a 2-3s delay)\n",
    "- VISIONE sends two queries if temporal, defined by \"value\":\"...Temporal_query...\" and the same timestamp \n",
    "- VISIONE additional information in the value column after the first '>'\n",
    "- VISIONE in the value column \"textualMode=all\" means an ensemble of CLIP, Aladin, VideoClip"
   ]
  },
  {
   "attachments": {},
   "cell_type": "markdown",
   "metadata": {
    "pycharm": {
     "name": "#%% md\n"
    }
   },
   "source": [
    "# Filtering and pre-processing\n",
    "- remove category SUBMIT \n",
    "- remove VISIONE and HTW suffixes from \"value\"\n",
    "- remove CVHunter prefixes from \"value\"\n",
    "- remove some of CVHunter browsing types (those that does not alter ranking)\n",
    "- swap content of column category and type for vitrivr-vr \n",
    "- remove vitrivr and vireo since they to not have any useable data"
   ]
  },
  {
   "attachments": {},
   "cell_type": "markdown",
   "metadata": {},
   "source": [
    "#### remove vitrivr and VIREO  and remove all query duplicates "
   ]
  },
  {
   "cell_type": "code",
   "execution_count": null,
   "metadata": {},
   "outputs": [],
   "source": [
    "dataset=dataset_original.copy()\n",
    "# remove vitrivr and VIREO for now because there are no text query information\n",
    "dataset = dataset.loc[dataset[\"team\"]!=\"vitrivr\"]\n",
    "dataset = dataset.loc[dataset[\"team\"]!=\"VIREO\"]\n",
    "\n",
    "dataset = dataset.sort_values(by='index')\n",
    "dropped_rows = dataset[dataset.duplicated(subset=[\"task\", \"team\", \"user\", \"rank_video\", \"rank_shot_margin_0\", \"rank_shot_margin_5\", \"category\", \"type\", \"value\"], keep='first')]\n",
    "print(dropped_rows[\"team\"].value_counts())\n",
    "dropped_rows[[\"task\", \"team\", \"user\", \"value\", \"rank_video\"]]\n",
    "\n",
    "#remove all duplicates\n",
    "dataset = dataset.drop_duplicates(subset=[\"task\", \"team\", \"user\", \"rank_video\", \"rank_shot_margin_0\", \"rank_shot_margin_5\", \"category\", \"type\", \"value\"], keep='first')              \n",
    "dataset.shape\n",
    "#dataset_cvhunter = dataset.loc[(dataset[\"team\"]==\"CVHunter\")&(dataset[\"category\"]==\"TEXT\")].drop_duplicates(subset=[\"task\", \"team\", \"user\", \"category\", \"type\", \"value\"], keep='first')\n",
    "#dataset_wo_cvhunter = dataset.loc[~((dataset[\"team\"]==\"CVHunter\")&(dataset[\"category\"]==\"TEXT\"))]\n",
    "#dataset = pd.concat([dataset_wo_cvhunter, dataset_cvhunter])\n",
    "#print(dataset.shape)"
   ]
  },
  {
   "attachments": {},
   "cell_type": "markdown",
   "metadata": {},
   "source": [
    "#### Add temporal column, remove vitrivr and VIREO, and"
   ]
  },
  {
   "cell_type": "code",
   "execution_count": null,
   "metadata": {},
   "outputs": [],
   "source": [
    "\n",
    "#add temporal column and\n",
    "dataset[\"is_temporal_query\"] = False\n",
    "\n",
    "\n",
    "#VERGE TEAM\n",
    "#only verge has nconcept queries, but they are without values. Intead of removing them, we will replace the category with CONCEPT, to count them in teh \"other-than-text\" queries category\n",
    "dataset.loc[(dataset.type==\"concept\"),\"category\"]=\"CONCEPT\"\n",
    "# there is no way to identify temporal search, in anay case temporal can be used only for concept queries\n",
    "\n",
    "\n",
    "\n",
    "##CVHUNTER TEAM\n",
    "# remove category SUBMIT\n",
    "dataset = dataset.loc[~((dataset[\"team\"]==\"CVHunter\")&(dataset[\"category\"]==\"SUBMIT\"))]\n",
    "\n",
    "# remove category BROWSING\n",
    "dataset = dataset.loc[~((dataset[\"team\"]==\"CVHunter\")&(dataset[\"category\"]==\"BROWSING\"))]\n",
    "\n",
    "# mark the temporal queries\n",
    "dataset.loc[((dataset.team == \"CVHunter\") & (dataset.category==\"TEXT\") & (dataset.value.str.contains('Temporal'))),\"is_temporal_query\"]= True\n",
    "#dataset.loc[((dataset[\"team\"]==\"CVHunter\")&(dataset.value.str.contains('>'))),\"is_temporal_query\"] = True\n",
    "\n",
    "# remove text prefix for CVHunter queries\n",
    "dataset.loc[((dataset[\"team\"]==\"CVHunter\")&(dataset[\"category\"]==\"TEXT\")),\"value\"] = dataset.loc[((dataset[\"team\"]==\"CVHunter\")),\"value\"].str.replace(\"Temporal CLIP: \",\"\")\n",
    "dataset.loc[((dataset[\"team\"]==\"CVHunter\")&(dataset[\"category\"]==\"TEXT\")),\"value\"] = dataset.loc[((dataset[\"team\"]==\"CVHunter\")),\"value\"].str.replace(\"CLIP: \",\"\")\n",
    "\n",
    "#rename the jointEmebedding category \n",
    "dataset.loc[((dataset.team == \"VISIONE\") & (dataset.category==\"TEXT\") & (dataset.type.str.contains('JointEmbedding'))),\"type\"]= \"jointEmbedding\"\n",
    "\n",
    "\n",
    "##Vibro TEAM\n",
    "# rename HTW to vibro\n",
    "dataset.loc[dataset[\"team\"]==\"HTW\", \"team\"] = \"vibro\"\n",
    "\n",
    "# mark the temporal queries\n",
    "dataset.loc[((dataset.team == \"vibro\") & (dataset.category==\"TEMPORAL\")),\"is_temporal_query\"] = True\n",
    "\n",
    "# swap type and category column contents for vitrivr-VR\n",
    "dataset.loc[dataset.team == \"vitrivr-VR\", [\"type\", \"category\"]] = dataset.loc[dataset.team == \"vitrivr-VR\", [\"category\", \"type\"]].values\n",
    "# mark the temporal queries\n",
    "#TODO: how to distinguish vitrivr-VR temporal queries from non-temporal queries?\n",
    "dataset.loc[((dataset.team == \"vitrivr-VR\") & (dataset.category==\"TEXT\") & (dataset.value.str.contains(\">\"))),\"is_temporal_query\"] = True\n",
    "\n",
    "\n",
    "#VISIONE TEAM\n",
    "\n",
    "# mark the temporal queries\n",
    "dataset.loc[((dataset[\"team\"]==\"VISIONE\")&(dataset.value.str.contains('Temporal_query'))),\"is_temporal_query\"] = True\n",
    "\n",
    "# remove text suffix for VISIONE queries\n",
    "dataset.loc[((dataset[\"team\"]==\"VISIONE\")&(dataset[\"category\"]==\"TEXT\")),\"value\"] = dataset.loc[((dataset[\"team\"]==\"VISIONE\")&(dataset[\"category\"]==\"TEXT\")),\"value\"].str.split('>').str[0]\n",
    "dataset.loc[(dataset[\"team\"]==\"VISIONE\"),\"value\"] = dataset.loc[((dataset[\"team\"]==\"VISIONE\")),\"value\"].str.split('>').str[0]\n",
    "\n",
    "#rename the jointEmebedding category \n",
    "dataset.loc[((dataset.team == \"VISIONE\") & (dataset.category==\"TEXT\") & (dataset.type.str.contains('jointEmbedding'))),\"type\"]= \"jointEmbedding\"\n",
    "dataset.shape\n",
    "\n"
   ]
  },
  {
   "attachments": {},
   "cell_type": "markdown",
   "metadata": {},
   "source": [
    "####  merge VISIONE's two row temporal queries"
   ]
  },
  {
   "cell_type": "code",
   "execution_count": null,
   "metadata": {},
   "outputs": [],
   "source": [
    "# concatenating temporal queries for VISIONE (query with same timestamp, user, and query type)\n",
    "visione = dataset.loc[(dataset[\"team\"]==\"VISIONE\")]\n",
    "txtGroupby = visione.groupby([\"task\",\"team\",\"user\",\"timestamp\",\"type\",\"category\"]).agg({'value': ' > '.join}).reset_index()\n",
    "dataset_clean = visione.drop(columns=['value'])\n",
    "dataset_visione = dataset_clean.merge(txtGroupby, on=[\"task\",\"team\",\"user\",\"timestamp\", \"type\", \"category\"], how='left')\n",
    "dataset_visione = dataset_visione.drop_duplicates(subset=[\"task\",\"team\",\"user\",\"timestamp\",\"type\",\"category\"])\n",
    "dataset_wo_visione = dataset.loc[(dataset[\"team\"]!=\"VISIONE\")]\n",
    "dataset = pd.concat([dataset_wo_visione, dataset_visione])\n",
    "\n",
    "\n",
    "print(dataset.shape)\n",
    "print('***Temporal****')\n",
    "print(' \\n'.join(map(str, dataset.loc[dataset.is_temporal_query][[\"team\",\"category\",\"type\"]].groupby([\"team\",\"category\",\"type\"]).groups.keys())))\n",
    "print('*** NON Temporal****')\n",
    "print('\\n'.join(map(str, dataset.loc[~ dataset.is_temporal_query][[\"team\",\"category\",\"type\"]].groupby([\"team\",\"category\",\"type\"]).groups.keys())))\n"
   ]
  },
  {
   "attachments": {},
   "cell_type": "markdown",
   "metadata": {},
   "source": [
    "### add a \"is joint embedding text query\" column"
   ]
  },
  {
   "cell_type": "code",
   "execution_count": null,
   "metadata": {},
   "outputs": [],
   "source": [
    "dataset[\"is_joint_embedding_text_query\"] = True\n",
    "dataset.loc[dataset.type.str.contains(\"LocalizedObjectAndColors\"), \"is_joint_embedding_text_query\"] = False\n",
    "dataset.loc[dataset.type.str.contains(\"LocalizedObjectAndColors\"), \"category\"] = \"Other\"\n",
    "dataset.loc[dataset.category==\"CONCEPT\", \"is_joint_embedding_text_query\"] = False\n",
    "dataset.loc[dataset.category==\"IMAGE\", \"is_joint_embedding_text_query\"] = False\n",
    "dataset.loc[dataset.category==\"FILTER\", \"is_joint_embedding_text_query\"] = False\n",
    "dataset.loc[dataset.type.str.contains(\"LocalizedObjectAndColors\"), \"is_joint_embedding_text_query\"] = False\n",
    "\n",
    "print('\\n'.join(map(str, dataset.loc[dataset.is_joint_embedding_text_query][[\"team\",\"category\",\"type\"]].groupby([\"team\",\"category\",\"type\"]).groups.keys())))"
   ]
  },
  {
   "attachments": {},
   "cell_type": "markdown",
   "metadata": {},
   "source": [
    "### Sort table rows by a specific team order"
   ]
  },
  {
   "cell_type": "code",
   "execution_count": null,
   "metadata": {},
   "outputs": [],
   "source": [
    "dataset = dataset.sort_values(by='team', key=lambda x: x.map({v: i for i, v in enumerate(team_order)}))\n",
    "dataset.team.unique()"
   ]
  },
  {
   "attachments": {},
   "cell_type": "markdown",
   "metadata": {},
   "source": [
    "### add CLIP feature column to every text query"
   ]
  },
  {
   "cell_type": "code",
   "execution_count": null,
   "metadata": {},
   "outputs": [],
   "source": [
    "import requests\n",
    "\n",
    "def computeCLIP(text):\n",
    "    \n",
    "    url = 'https://navigu.net/feature/clipfv'\n",
    "    data = {\n",
    "        'text': text,\n",
    "        'networks': 'CLIP-Textual'\n",
    "    }\n",
    "\n",
    "    response = requests.post(url, data=data)\n",
    "\n",
    "    if response.status_code == 200:\n",
    "        # Request was successful\n",
    "        return np.frombuffer(response.content[-769:-1], dtype=np.int8)\n",
    "    else:\n",
    "        # There was an error\n",
    "        print(f\"Error: {response.status_code}\")\n",
    "        \n",
    "# compute CLIP feature\n",
    "dataset[\"joint_text_embedding\"] = None\n",
    "dataset.loc[dataset.is_joint_embedding_text_query, \"joint_text_embedding\"] = dataset.loc[dataset.is_joint_embedding_text_query, 'value'].apply(computeCLIP)\n",
    "dataset[\"joint_text_embedding\"][0]"
   ]
  },
  {
   "attachments": {},
   "cell_type": "markdown",
   "metadata": {},
   "source": [
    "# Create pickle file"
   ]
  },
  {
   "cell_type": "code",
   "execution_count": null,
   "metadata": {},
   "outputs": [],
   "source": [
    "dataset.to_pickle(comp_data[\"config\"][\"processed_logs_outdir\"] + '/text_query_dataset.pkl')\n",
    "print(dataset.shape)\n",
    "print('\\n'.join(map(str, dataset[[\"team\",\"category\",\"type\"]].groupby([\"team\",\"category\",\"type\"]).groups.keys())))"
   ]
  },
  {
   "cell_type": "code",
   "execution_count": null,
   "metadata": {},
   "outputs": [],
   "source": [
    "#counting textual  queries thta are not temporal\n",
    "dataset.loc[(dataset[\"is_temporal_query\"]==False)&(dataset[\"is_joint_embedding_text_query\"]==True)].groupby([\"team\",\"category\",\"type\"]).size().reset_index(name='count')"
   ]
  },
  {
   "cell_type": "code",
   "execution_count": null,
   "metadata": {},
   "outputs": [],
   "source": [
    "#dataset.loc[(dataset[\"is_temporal_query\"]==False)&(dataset[\"is_joint_embedding_text_query\"]==True) & (dataset[\"team\"]==\"vitrivr-VR\")].head()\n",
    "#counting of textual temporal queries\n",
    "dataset.loc[(dataset[\"is_temporal_query\"]==True)&(dataset[\"is_joint_embedding_text_query\"]==True)].groupby([\"team\",\"category\",\"type\"]).size().reset_index(name='count')"
   ]
  },
  {
   "cell_type": "code",
   "execution_count": null,
   "metadata": {},
   "outputs": [],
   "source": [
    "#textual non temporal queries\n",
    "dataset.loc[(dataset[\"is_temporal_query\"]==False)&(dataset[\"is_joint_embedding_text_query\"]==True)].groupby([\"team\",\"category\",\"type\"]).size().reset_index(name='count')"
   ]
  },
  {
   "cell_type": "code",
   "execution_count": null,
   "metadata": {},
   "outputs": [],
   "source": []
  }
 ],
 "metadata": {
  "kernelspec": {
   "display_name": ".venv",
   "language": "python",
   "name": "python3"
  },
  "language_info": {
   "codemirror_mode": {
    "name": "ipython",
    "version": 3
   },
   "file_extension": ".py",
   "mimetype": "text/x-python",
   "name": "python",
   "nbconvert_exporter": "python",
   "pygments_lexer": "ipython3",
   "version": "3.10.9"
  }
 },
 "nbformat": 4,
 "nbformat_minor": 4
}
