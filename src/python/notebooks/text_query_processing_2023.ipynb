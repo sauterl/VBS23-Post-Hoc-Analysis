{
 "cells": [
  {
   "attachments": {},
   "cell_type": "markdown",
   "metadata": {
    "pycharm": {
     "name": "#%% md\n"
    }
   },
   "source": [
    "# Processing text queries\n",
    "- code in this notebook predominantly analyze text queries submitted by participants to solve KIS tasks of VBS 2023\n",
    "- among others, this notebook can replicate the content of Table 2 and 3 as well as Figures 13-15"
   ]
  },
  {
   "cell_type": "code",
   "execution_count": null,
   "metadata": {
    "pycharm": {
     "name": "#%%\n"
    }
   },
   "outputs": [],
   "source": [
    "import sys\n",
    "import os\n",
    "if os.getcwd().split('/')[-1] == 'notebooks':\n",
    "    os.chdir('..')\n",
    "\n",
    "# imports\n",
    "import pandas as pd\n",
    "import matplotlib.pyplot as plt\n",
    "import seaborn as sns\n",
    "import numpy as np\n",
    "import math\n",
    "from notebooks.utils import compute_user_penalty, get_team_values_df\n",
    "from common.load import load_competition_data, process_team_logs\n",
    "\n",
    "pd.set_option('display.max_colwidth', None)\n",
    "unknownRankLimit = 1000\n",
    "unknownRankValue = 2000"
   ]
  },
  {
   "attachments": {},
   "cell_type": "markdown",
   "metadata": {},
   "source": [
    "# Import common data"
   ]
  },
  {
   "cell_type": "code",
   "execution_count": null,
   "metadata": {},
   "outputs": [],
   "source": [
    "config = 'config_vbs2023.yaml'\n",
    "\n",
    "# load competition data from dres files and auxiliary data (FPSs, sequences)\n",
    "comp_data = load_competition_data(config)\n",
    "\n",
    "# load the preprocessed query data\n",
    "dataset = pd.read_pickle(comp_data[\"config\"][\"processed_logs_outdir\"] + '/text_query_dataset.pkl')\n",
    "\n",
    "# valid teams\n",
    "team_order = ['vibro', 'VISIONE',  'vitrivr-VR', 'CVHunter', 'Verge']\n",
    "#team_order = ['vibro', 'VISIONE', 'VIREO' 'vitrivr-VR', 'CVHunter', 'vitrivr', 'Verge']\n",
    "\n",
    "dataset.shape"
   ]
  },
  {
   "attachments": {},
   "cell_type": "markdown",
   "metadata": {
    "pycharm": {
     "name": "#%% md\n"
    }
   },
   "source": [
    "### Creating auxiliary variables\n",
    "- Query length and volume of words per query\n",
    "- Maybe also store information whether the query is temporal? Only HTW and VISIONE have obviouse temporal queries\n",
    "- Define visual vs textual tasks"
   ]
  },
  {
   "cell_type": "code",
   "execution_count": null,
   "metadata": {
    "pycharm": {
     "name": "#%%\n"
    }
   },
   "outputs": [],
   "source": [
    "dataset[\"task_type\"] = \"visual\"\n",
    "dataset.loc[dataset.task.str.contains(\"kis-t\"),\"task_type\"] = \"textual\"\n",
    "\n",
    "dataset[\"query_type\"] = \"Other\"\n",
    "dataset.loc[(dataset.is_joint_embedding_text_query) &  ~(dataset.is_temporal_query), \"query_type\"] = \"Text\"\n",
    "dataset.loc[(dataset.is_joint_embedding_text_query) &  (dataset.is_temporal_query), \"query_type\"] = \"Text + Temporal\"\n",
    "\n",
    "dataset[\"QueryLen\"] = -1\n",
    "dataset[\"QueryWords\"] = -1\n",
    "\n",
    "dataset.loc[dataset[\"query_type\"]==\"Text\",\"QueryLen\"] = dataset.loc[dataset[\"query_type\"]==\"Text\",\"value\"].str.len()\n",
    "dataset.loc[dataset[\"query_type\"]==\"Text\",\"QueryWords\"] = dataset.loc[dataset[\"query_type\"]==\"Text\",\"value\"].str.split().str.len()\n",
    "dataset.loc[dataset[\"query_type\"]==\"Text + Temporal\",\"QueryLen\"] = dataset.loc[dataset[\"query_type\"]==\"Text + Temporal\",\"value\"].str.len()\n",
    "dataset.loc[dataset[\"query_type\"]==\"Text + Temporal\",\"QueryWords\"] = dataset.loc[dataset[\"query_type\"]==\"Text + Temporal\",\"value\"].str.split().str.len()\n",
    "\n",
    "dataset['user'] = dataset['user'].replace(0, '1st').replace(1, '2nd')\n",
    "\n",
    "dataset.head()"
   ]
  },
  {
   "cell_type": "code",
   "execution_count": null,
   "metadata": {},
   "outputs": [],
   "source": [
    "dataset.loc[(dataset['is_joint_embedding_text_query'] == False) & (dataset['team'] == 'VISIONE'), [\"team\", \"category\", \"type\", \"query_type\", \"timestamp\"]]"
   ]
  },
  {
   "attachments": {},
   "cell_type": "markdown",
   "metadata": {},
   "source": [
    "# Table 2 in the paper: usage of Text queries"
   ]
  },
  {
   "cell_type": "code",
   "execution_count": null,
   "metadata": {},
   "outputs": [],
   "source": [
    "# percentage of how many rows per team belong to a text query and an image query\n",
    "counts = dataset.groupby([\"team\",\"query_type\"])[[\"value\"]].count()\n",
    "counts = ((counts / counts.groupby('team')[[\"value\"]].sum())*100).round(1)\n",
    "\n",
    "# add empty rows\n",
    "counts = counts.reset_index()\n",
    "counts = counts.append(pd.DataFrame([{'team': 'vitrivr-VR', 'query_type': 'Other', 'value': 0}], columns=counts.columns))\n",
    "\n",
    "# sort in team order\n",
    "counts = counts.set_index(['team','query_type']).loc[team_order, :]\n",
    "counts"
   ]
  },
  {
   "cell_type": "code",
   "execution_count": null,
   "metadata": {},
   "outputs": [],
   "source": [
    "print(counts.to_latex())"
   ]
  },
  {
   "cell_type": "code",
   "execution_count": null,
   "metadata": {},
   "outputs": [],
   "source": [
    "queryCount = dataset.groupby([\"team\", \"user\", \"query_type\", \"timestamp\"])['task'].count().reset_index()\n",
    "queryCount = queryCount.groupby([\"team\", \"user\", \"query_type\"]).count()\n",
    "queryCount = queryCount['task']\n",
    "queryCount"
   ]
  },
  {
   "cell_type": "code",
   "execution_count": null,
   "metadata": {},
   "outputs": [],
   "source": [
    "queryCount.groupby([\"team\", \"user\"]).sum()"
   ]
  },
  {
   "cell_type": "code",
   "execution_count": null,
   "metadata": {},
   "outputs": [],
   "source": [
    "((queryCount / queryCount.groupby([\"team\", \"user\"]).sum())*100).round(1)"
   ]
  },
  {
   "attachments": {},
   "cell_type": "markdown",
   "metadata": {},
   "source": [
    "# Table 3"
   ]
  },
  {
   "cell_type": "code",
   "execution_count": null,
   "metadata": {
    "pycharm": {
     "name": "#%%\n"
    },
    "scrolled": true
   },
   "outputs": [],
   "source": [
    "# median values\n",
    "dataset.loc[dataset.rank_video > unknownRankLimit, \"rank_video\"] = unknownRankValue\n",
    "dataset.loc[dataset.rank_shot_margin_0 > unknownRankLimit, \"rank_shot_margin_0\"] = unknownRankValue\n",
    "dataset.loc[dataset.rank_shot_margin_5 > unknownRankLimit, \"rank_shot_margin_5\"] = unknownRankValue\n",
    "medianStats = dataset.groupby([\"team\",\"user\",\"query_type\"])[[\"rank_shot_margin_0\",\"rank_shot_margin_5\",\"rank_video\"]].median()\n",
    "\n",
    "# mean query length and word count\n",
    "meanQueryStats = dataset.groupby([\"team\",\"user\",\"query_type\"])[[\"QueryWords\",\"QueryLen\"]].mean()\n",
    "\n",
    "# query count per team, user and query_type\n",
    "queryCount = dataset.groupby([\"team\", \"user\", \"query_type\", \"timestamp\"])['task'].count().reset_index()\n",
    "queryCount = queryCount.groupby([\"team\", \"user\", \"query_type\"]).count()\n",
    "queryCount = queryCount['task']\n",
    "#queryUsage = ((queryCount / dataset.groupby([\"team\", \"user\"])['task'].count())*100).round(1)\n",
    "queryUsage = ((queryCount / queryCount.groupby([\"team\", \"user\"]).sum())*100).round(1)\n",
    "\n",
    "# construct table\n",
    "restrData = dataset\n",
    "top5 = restrData.loc[restrData.rank_shot_margin_0 < 5].groupby([\"team\",\"user\",\"query_type\"]).count()[\"rank_shot_margin_0\"]\n",
    "top10 = restrData.loc[restrData.rank_shot_margin_0 < 10].groupby([\"team\",\"user\",\"query_type\"]).count()[\"rank_shot_margin_0\"]\n",
    "top20 = restrData.loc[restrData.rank_shot_margin_0 < 20].groupby([\"team\",\"user\",\"query_type\"]).count()[\"rank_shot_margin_0\"]\n",
    "top50 = restrData.loc[restrData.rank_shot_margin_0 < 50].groupby([\"team\",\"user\",\"query_type\"]).count()[\"rank_shot_margin_0\"]\n",
    "top100 = restrData.loc[restrData.rank_shot_margin_0 < 100].groupby([\"team\",\"user\",\"query_type\"]).count()[\"rank_shot_margin_0\"]\n",
    "top200 = restrData.loc[restrData.rank_shot_margin_0 < 200].groupby([\"team\",\"user\",\"query_type\"]).count()[\"rank_shot_margin_0\"]\n",
    "top500 = restrData.loc[restrData.rank_shot_margin_0 < 500].groupby([\"team\",\"user\",\"query_type\"]).count()[\"rank_shot_margin_0\"]\n",
    "\n",
    "resTab1 = pd.DataFrame({\"total queries\":queryCount,\n",
    "                        \"queries usage\":queryUsage,\n",
    "                        \"words / query\": 0,\n",
    "                        \"query length\": 0,\n",
    "                        \"top5\":(top5/queryCount*100).round(1),\n",
    "                        \"top10\":(top10/queryCount*100).round(1),\n",
    "                        \"top20\":(top20/queryCount*100).round(1),\n",
    "                        \"top50\":(top50/queryCount*100).round(1),\n",
    "                        \"top100\":(top100/queryCount*100).round(1),\n",
    "                        \"top200\":(top200/queryCount*100).round(1),\n",
    "                        \"top500\":(top500/queryCount*100).round(1)}).fillna(0)\n",
    "\n",
    "# in the end we want mean stats\n",
    "resTab1[\"words / query\"] = meanQueryStats[\"QueryWords\"]\n",
    "resTab1[\"query length\"] = meanQueryStats[\"QueryLen\"]\n",
    "\n",
    "# sort in team order\n",
    "resTab1 = resTab1.loc[team_order, :]\n",
    "resTab1"
   ]
  },
  {
   "attachments": {},
   "cell_type": "markdown",
   "metadata": {},
   "source": [
    "## add queries per minute to table 3"
   ]
  },
  {
   "cell_type": "code",
   "execution_count": null,
   "metadata": {},
   "outputs": [],
   "source": [
    "# total availabe time to ask queries per team\n",
    "totTime = dataset.groupby([\"team\", \"task\"])[[\"correct_submission_time_ms\"]].min().reset_index().groupby([\"team\"])[\"correct_submission_time_ms\"].sum()\n",
    "\n",
    "# query per minute per user, team and query type\n",
    "queryPerMinute = queryCount/totTime*1000*60\n",
    "qpmdf = pd.DataFrame({\"QPM\": queryPerMinute})\n",
    "\n",
    "# table 3\n",
    "tab3 = resTab1.reset_index().set_index(['team', 'user', 'query_type'])\n",
    "\n",
    "# copy queries per minute column for all clip rows\n",
    "tab3[\"query / minute\"] = qpmdf[\"QPM\"]\n",
    "\n",
    "# Replace NaN values with zeros\n",
    "tab3 = tab3.fillna(0)\n",
    "                   \n",
    "# Replace -1 with 0\n",
    "tab3 = tab3.replace(-1, 0)\n",
    "\n",
    "# combine query count and usage columns\n",
    "tab3[\"usage\"] = tab3[\"total queries\"].astype(str) + ' (' + tab3[\"queries usage\"].astype(int).astype(str) + '%)'\n",
    "                   \n",
    "tab3[[\"usage\", \"query / minute\",\"words / query\",\"query length\",\"top10\",\"top20\",\"top50\",\"top100\",\"top200\"]].round(2)"
   ]
  },
  {
   "attachments": {},
   "cell_type": "markdown",
   "metadata": {},
   "source": [
    "## create empty rows to table 3"
   ]
  },
  {
   "cell_type": "code",
   "execution_count": null,
   "metadata": {},
   "outputs": [],
   "source": [
    "from itertools import product\n",
    "\n",
    "# Get unique values from each column\n",
    "utab = tab3.reset_index()\n",
    "unique_teams = utab['team'].unique()\n",
    "unique_users = utab['user'].unique()\n",
    "unique_query_types = utab['query_type'].unique()\n",
    "\n",
    "# Generate all combinations\n",
    "combinations = product(unique_teams, unique_users, unique_query_types)\n",
    "\n",
    "# Create a new DataFrame from combinations\n",
    "new_data = list(combinations)\n",
    "new_df = pd.DataFrame(new_data, columns=['team', 'user', 'query_type'])\n",
    "\n",
    "# Remove Verge second user\n",
    "new_df = new_df[~((new_df['team'] == \"Verge\") & (new_df['user'] == \"2nd\"))]\n",
    "new_df"
   ]
  },
  {
   "cell_type": "code",
   "execution_count": null,
   "metadata": {},
   "outputs": [],
   "source": [
    "tab3full = new_df.set_index(['team', 'user', 'query_type'])\n",
    "\n",
    "# Copy specific columns from df to new_df\n",
    "columns_to_copy = [\"usage\", \"query / minute\",\"words / query\",\"query length\",\"top10\",\"top20\",\"top50\",\"top100\",\"top200\"]\n",
    "tab3full[columns_to_copy] = tab3[columns_to_copy]\n",
    "\n",
    "# Replace NaN values with zeros\n",
    "tab3full = tab3full.fillna(0)\n",
    "\n",
    "# round\n",
    "tab3full = tab3full.round(2)\n",
    "\n",
    "# order\n",
    "tab3full = tab3full.sort_values(by=['team', 'user', 'query_type'], ascending=[True, True, False]).loc[team_order, :]\n",
    "\n",
    "# rename verge first user to first + second user\n",
    "tab3full = tab3full.reset_index()\n",
    "tab3full.loc[tab3full[\"team\"] == \"Verge\", \"user\"] = \"1st & 2nd\"\n",
    "tab3full = tab3full.set_index(['team', 'user', 'query_type'])\n",
    "\n",
    "# add a percentage sign\n",
    "columns_to_convert = ['top10', 'top20', 'top50', 'top100', 'top200']\n",
    "tab3full[columns_to_convert] = tab3full[columns_to_convert].astype(str) + '%'\n",
    "\n",
    "# replace 0 with -\n",
    "tab3full = tab3full.replace(0, '-')\n",
    "tab3full = tab3full.replace(\"0.0%\", '-')\n",
    "\n",
    "tab3full"
   ]
  },
  {
   "cell_type": "code",
   "execution_count": null,
   "metadata": {},
   "outputs": [],
   "source": [
    "print(tab3full.to_latex())"
   ]
  },
  {
   "attachments": {},
   "cell_type": "markdown",
   "metadata": {},
   "source": [
    "# Figure 14"
   ]
  },
  {
   "cell_type": "code",
   "execution_count": null,
   "metadata": {},
   "outputs": [],
   "source": [
    "textData = dataset.loc[dataset[\"query_type\"]==\"CLIP\"]\n",
    "textData[\"rankCat\"] = \">100\"\n",
    "textData.loc[(textData.rank_shot_margin_0 <= 100),\"rankCat\"] = \"1-100\"\n",
    "\n",
    "fig,ax = plt.subplots(1,1, figsize=(6,4))\n",
    "textDataWithLength = textData.loc[textData.QueryLen > -1] # just to be sure\n",
    "hue_order = team_order\n",
    "\n",
    "#sns.boxenplot(data=textDataWithLength,x=\"rankCat\",y=\"QueryWords\", hue=\"team\", ax=ax, hue_order = hue_order)\n",
    "sns.boxenplot(data=textDataWithLength,x=\"rankCat\",y=\"QueryLen\", hue=\"team\", ax=ax, hue_order = hue_order)\n",
    "\n",
    "#ax.set_xlabel(\"Rank of the correct shot\")\n",
    "ax.set_xlabel(\"Rank of the correct shot\")\n",
    "#ax.set_ylabel(\"Words per query\")\n",
    "ax.set_ylabel(\"Query length\")\n",
    "plt.tight_layout()\n",
    "plt.savefig(\"kis_TextQueryLengthVsRanking.pdf\")"
   ]
  },
  {
   "cell_type": "code",
   "execution_count": null,
   "metadata": {},
   "outputs": [],
   "source": []
  }
 ],
 "metadata": {
  "kernelspec": {
   "display_name": ".venv",
   "language": "python",
   "name": "python3"
  },
  "language_info": {
   "codemirror_mode": {
    "name": "ipython",
    "version": 3
   },
   "file_extension": ".py",
   "mimetype": "text/x-python",
   "name": "python",
   "nbconvert_exporter": "python",
   "pygments_lexer": "ipython3",
   "version": "3.10.12"
  }
 },
 "nbformat": 4,
 "nbformat_minor": 4
}
